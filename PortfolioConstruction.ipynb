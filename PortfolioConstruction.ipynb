{
 "cells": [
  {
   "cell_type": "markdown",
   "metadata": {},
   "source": [
    "# Portfolio Construction\n",
    "Construst portfolio based on LSTM online prediction results and backtest"
   ]
  },
  {
   "cell_type": "code",
   "execution_count": null,
   "metadata": {},
   "outputs": [],
   "source": [
    "# Import all necessary packages\n",
    "import pandas as pd\n",
    "import numpy as np\n",
    "import matplotlib.pyplot as plt\n",
    "import math\n",
    "\n",
    "\n",
    "stockreturns = pd.read_csv('price.csv',index_col=0)\n",
    "tickers = stockreturns.columns\n",
    "lags = 20\n",
    "for i in range(len(tickers)):\n",
    "    ticker = tickers[i]\n",
    "    stockreturns[ticker] = stockreturns[ticker].shift(-lags) / stockreturns[ticker]  - 1\n",
    "stockreturns.dropna(inplace=True)\n",
    "stockreturns.head()"
   ]
  },
  {
   "cell_type": "code",
   "execution_count": null,
   "metadata": {},
   "outputs": [],
   "source": [
    "# Assume we have the predicted results\n",
    "predicted = pd.read_csv('testPredict.csv',index_col=0)\n",
    "predicted.head()"
   ]
  },
  {
   "cell_type": "code",
   "execution_count": null,
   "metadata": {},
   "outputs": [],
   "source": [
    "balance_dates = []\n",
    "portfolio_returns = []\n",
    "\n",
    "n_stocks = 10  # long top 10 stocks in winning group and short top 10 stocks in losing group\n",
    "holding_period = 20  # hold portfolio for 20 period\n",
    "\n",
    "i = 0\n",
    "while i < len(predicted):\n",
    "    # Loc out the probalitily at t and rank\n",
    "    probabilities = predicted.iloc[i,:]\n",
    "\n",
    "    date = predicted.iloc[i,:].name\n",
    "    ranked = pd.DataFrame(probabilities.rank(ascending = False))\n",
    "    ranked.reset_index(inplace=True)\n",
    "    ranked.columns = ['Company','Rank']\n",
    "    ranked.set_index('Rank',inplace=True)\n",
    "    ranked.sort_index(inplace=True)\n",
    "    #print(ranked)\n",
    "    \n",
    "    # Select top 10 for winnning groups and lossing groups\n",
    "    rankedstocks = ranked['Company'].values\n",
    "    winningstocks = rankedstocks[:n_stocks]\n",
    "    lossingstocks = rankedstocks[-n_stocks:]\n",
    "\n",
    "    # Loc out the returns of selected stocks, average it and get the portfolio return for time t\n",
    "    selected_return = []\n",
    "    for j in range(n_stocks):\n",
    "        selected_return.append(stockreturns.loc[date,winningstocks[j]])\n",
    "        selected_return.append(-stockreturns.loc[date, lossingstocks[j]]) # \"-\" means returns for short position\n",
    "    portfolio_return = np.average(selected_return)\n",
    "    balance_dates.append(date)\n",
    "    portfolio_returns.append(portfolio_return)\n",
    "    i += holding_period\n",
    "\n",
    "portfolio = pd.DataFrame(data={'Date':balance_dates,'Return':portfolio_returns})\n",
    "portfolio.set_index('Date',inplace=True)\n",
    "portfolio.index = pd.to_datetime(portfolio.index)\n",
    "portfolio.head()"
   ]
  },
  {
   "cell_type": "code",
   "execution_count": null,
   "metadata": {},
   "outputs": [],
   "source": [
    "portfolio['CumWealth'] = np.cumprod(pd.Series(1+portfolio['Return']))\n",
    "# Plot the Cumulated return. I could also plot the enter and exit point in the residual plot later\n",
    "portfolio['CumWealth'].plot()\n",
    "plt.xlabel('Date')\n",
    "plt.ylabel('Wealth')\n",
    "plt.title('Cumulated Wealth of LSTM')"
   ]
  },
  {
   "cell_type": "code",
   "execution_count": null,
   "metadata": {},
   "outputs": [],
   "source": [
    "# Calculate the yearly maximum drawdown\n",
    "window = 252\n",
    "Roll_Max = pd.rolling_max(portfolio['CumWealth'], window, min_periods=1)\n",
    "Daily_Drawdown = portfolio['CumWealth'] / Roll_Max - 1\n",
    "Max_Daily_Drawdown = abs(pd.rolling_min(Daily_Drawdown, window, min_periods=1))\n",
    "MDD = np.max(Max_Daily_Drawdown)\n",
    "\n",
    "\n",
    "#Calculate the sharpe ratio\n",
    "sharpe = math.sqrt(12) * portfolio['Return'].mean() / portfolio['Return'].std()\n",
    "\n",
    "#Print out the result\n",
    "print('Cumulated Wealth: ',portfolio['CumWealth'].values[-1])\n",
    "print('Maximum Drawdown: ',MDD)\n",
    "print('Sharp Ratio:', sharpe)"
   ]
  },
  {
   "cell_type": "code",
   "execution_count": null,
   "metadata": {},
   "outputs": [],
   "source": []
  }
 ],
 "metadata": {
  "kernelspec": {
   "display_name": "Python 3",
   "language": "python",
   "name": "python3"
  },
  "language_info": {
   "codemirror_mode": {
    "name": "ipython",
    "version": 3
   },
   "file_extension": ".py",
   "mimetype": "text/x-python",
   "name": "python",
   "nbconvert_exporter": "python",
   "pygments_lexer": "ipython3",
   "version": "3.6.4"
  }
 },
 "nbformat": 4,
 "nbformat_minor": 2
}
